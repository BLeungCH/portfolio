{
 "cells": [
  {
   "cell_type": "code",
   "execution_count": null,
   "id": "dc5a2956-cc25-4d6c-8252-795649ba656e",
   "metadata": {
    "tags": []
   },
   "outputs": [],
   "source": [
    "def playback():\n",
    "    s = input(\"Enter words separated by spaces: \")\n",
    "    s = s.replace(\" \",\"...\")\n",
    "    print(s)\n",
    "    return\n",
    "\n",
    "playback()"
   ]
  },
  {
   "cell_type": "code",
   "execution_count": null,
   "id": "e553312d-7fd4-40b8-afed-97db91eb3dba",
   "metadata": {},
   "outputs": [],
   "source": [
    "def einstein():\n",
    "    m = int(input(\"Enter mass in kg: \"))\n",
    "    e = m * (9 * (10 ** 16))\n",
    "    print(\"The energy e is \" + str(e) )\n",
    "    return\n",
    "einstein()"
   ]
  },
  {
   "cell_type": "code",
   "execution_count": null,
   "id": "c3b10537-ef32-4f07-8544-ada282a227dc",
   "metadata": {
    "tags": []
   },
   "outputs": [],
   "source": [
    "def main():\n",
    "    dollars = dollars_to_float(input(\"How much was the meal? \"))\n",
    "    percent = percent_to_float(input(\"What percentage would you like to tip? \"))\n",
    "    tip = dollars * percent\n",
    "    print(f\"Leave ${tip:.2f}\")\n",
    "    \n",
    "def dollars_to_float(d):\n",
    "    d = d.replace(\"$\",\"\")\n",
    "    d = float(d)\n",
    "    return d\n",
    "\n",
    "def percent_to_float(p):\n",
    "    p = p.replace(\"%\",\"\")\n",
    "    p = float(p)/100\n",
    "    return p\n",
    "\n",
    "main()"
   ]
  },
  {
   "cell_type": "code",
   "execution_count": null,
   "id": "c92e5d23-fba0-40c3-a7f7-05bfec470c9b",
   "metadata": {
    "tags": []
   },
   "outputs": [],
   "source": [
    "def bank():\n",
    "    greet = input(\"Enter a greeting: \")\n",
    "    greet = greet.lower()\n",
    "    if(greet[0:5] == 'hello'):\n",
    "        print(\"$0\")\n",
    "    elif(greet[0:1] == 'h'):\n",
    "        print(\"$20\")\n",
    "    else:\n",
    "        print(\"$100\")\n",
    "    return\n",
    "\n",
    "bank()"
   ]
  },
  {
   "cell_type": "code",
   "execution_count": null,
   "id": "fb0fee66-b3d0-4a4e-935f-2a1962bb12fb",
   "metadata": {
    "tags": []
   },
   "outputs": [],
   "source": [
    "def inter():\n",
    "    expr = input(\"Enter an arithmetic expression: \")\n",
    "    x, y, z = expr.split(\" \")\n",
    "    ans = 0\n",
    "    if(y == \"+\"):\n",
    "        ans = float(x) + float(z)\n",
    "        print(\"Result: \" + str(ans))\n",
    "    elif(y == \"-\"):\n",
    "        ans = float(x) - float(z)\n",
    "        print(\"Result: \" + str(ans))\n",
    "    elif(y == \"*\"):\n",
    "        ans = float(x) * float(z)\n",
    "        print(\"Result: \" + str(ans))\n",
    "    elif(y == \"/\"):\n",
    "        if(z == \"0\"):\n",
    "            print(\"Cannot divide by zero.\")\n",
    "            return\n",
    "        ans = float(x) / float(z)\n",
    "        print(\"Result: \" + str(ans))\n",
    "    else:\n",
    "        return\n",
    "    return\n",
    "\n",
    "inter()"
   ]
  },
  {
   "cell_type": "code",
   "execution_count": null,
   "id": "1d47896b-afb5-42a0-92c2-3c6c13f79ef9",
   "metadata": {
    "tags": []
   },
   "outputs": [],
   "source": [
    "def coke():\n",
    "    change = 50\n",
    "    while(change > 0):\n",
    "        coin = input(\"Insert a coin (Accepted demoninations: 25, 10, 5 cents): \")\n",
    "        if(coin == \"25\" or coin == \"10\" or coin == \"5\"):\n",
    "            change -= int(coin)\n",
    "        if(change <= 0):\n",
    "            break\n",
    "        print(\"Amount due: \" + str(change) + \" cents.\")\n",
    "          \n",
    "    change *= -1\n",
    "    print(\"You have paid in full. Your change is \" + str(change) + \" cents.\")\n",
    "    return\n",
    "\n",
    "coke()"
   ]
  },
  {
   "cell_type": "code",
   "execution_count": null,
   "id": "3f82cae6-44a9-4b31-8da9-2430efadfbe7",
   "metadata": {},
   "outputs": [],
   "source": []
  }
 ],
 "metadata": {
  "kernelspec": {
   "display_name": "Python 3 (ipykernel)",
   "language": "python",
   "name": "python3"
  },
  "language_info": {
   "codemirror_mode": {
    "name": "ipython",
    "version": 3
   },
   "file_extension": ".py",
   "mimetype": "text/x-python",
   "name": "python",
   "nbconvert_exporter": "python",
   "pygments_lexer": "ipython3",
   "version": "3.11.5"
  }
 },
 "nbformat": 4,
 "nbformat_minor": 5
}
